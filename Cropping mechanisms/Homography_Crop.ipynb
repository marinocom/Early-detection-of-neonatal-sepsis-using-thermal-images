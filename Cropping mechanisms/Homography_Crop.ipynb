{
 "cells": [
  {
   "cell_type": "markdown",
   "id": "c521c89d",
   "metadata": {},
   "source": [
    "## Homography Crop\n",
    "\n",
    "This code given an image -thermal baby image- and a its corresponding visible counterpart by selecting points in the image is able to craft a homography matrix and transform all visible images in a folder accordingly. This notebook specifically was made to convert those images to 480 × 640."
   ]
  },
  {
   "cell_type": "markdown",
   "id": "921a08f2",
   "metadata": {},
   "source": [
    "### **Disclaimer: This code should be executed with the following things in mind.**\n",
    "- A good homography matrix, the best possible one, compute as many points as possible, based on two extremely clear images.\n",
    "- It should be executed twice, one for each camera, separating images in folders depending on the camera."
   ]
  },
  {
   "cell_type": "code",
   "execution_count": 9,
   "id": "23cd5e8d",
   "metadata": {},
   "outputs": [],
   "source": [
    "import cv2\n",
    "import numpy as np\n",
    "import matplotlib.pyplot as plt\n",
    "import os\n",
    "from glob import glob"
   ]
  },
  {
   "cell_type": "code",
   "execution_count": 20,
   "id": "c85fe4a3",
   "metadata": {},
   "outputs": [],
   "source": [
    "# Provide file paths\n",
    "# !!!! This are the images that will be used for the homography matrix creation\n",
    "# We should work twice, one per thermal camera\n",
    "\n",
    "thermal_path = \"/Users/marino/Downloads/HM20240814214018.jpeg\" # for the thermal image for the homography matrix\n",
    "visible_path = \"/Users/marino/Downloads/visible/HM20240814214018_VIS.jpeg\" # for the visible image for the homography matrix\n",
    "matrix_path = \"/Users/marino/Downloads/homography_matrix.txt\" # to save the homography matrix (if good)\n",
    "\n",
    "visible_folder = \"/Users/marino/Downloads/visible\" # for the visible images, to warp/transform\n",
    "output_folder = \"/Users/marino/Downloads/aligned\" # for the aligned images, to save the warped images"
   ]
  },
  {
   "cell_type": "markdown",
   "id": "49490e4c",
   "metadata": {},
   "source": [
    "Point selection"
   ]
  },
  {
   "cell_type": "code",
   "execution_count": 15,
   "id": "a96665d6",
   "metadata": {},
   "outputs": [],
   "source": [
    "# Load images\n",
    "visible_img = cv2.imread(visible_path)\n",
    "thermal_img = cv2.imread(thermal_path)\n",
    "\n",
    "visible_pts = []\n",
    "thermal_pts = []\n",
    "\n",
    "# --- Mouse click handler ---\n",
    "def click_points(event, x, y, flags, param):\n",
    "    if event == cv2.EVENT_LBUTTONDOWN:\n",
    "        img, pts, name = param\n",
    "        pts.append([x, y])\n",
    "        cv2.circle(img, (x, y), 5, (0, 255, 0), -1)\n",
    "        cv2.putText(img, f'{len(pts)}', (x+5, y-5), cv2.FONT_HERSHEY_SIMPLEX, 0.5, (0,255,0), 1)\n",
    "        cv2.imshow(name, img)\n",
    "\n",
    "# Clone images for display\n",
    "visible_clone = visible_img.copy()\n",
    "thermal_clone = thermal_img.copy()\n",
    "\n",
    "# Collect points from visible image\n",
    "cv2.imshow(\"Visible Image - Click 4+ keypoints\", visible_clone)\n",
    "cv2.setMouseCallback(\"Visible Image - Click 4+ keypoints\", click_points, [visible_clone, visible_pts, \"Visible Image - Click 4+ keypoints\"])\n",
    "cv2.waitKey(0)\n",
    "cv2.destroyAllWindows()\n",
    "\n",
    "# Collect points from thermal image\n",
    "cv2.imshow(\"Thermal Image - Click same keypoints in same order\", thermal_clone)\n",
    "cv2.setMouseCallback(\"Thermal Image - Click same keypoints in same order\", click_points, [thermal_clone, thermal_pts, \"Thermal Image - Click same keypoints in same order\"])\n",
    "cv2.waitKey(0)\n",
    "cv2.destroyAllWindows()\n",
    "\n",
    "# Convert to numpy arrays\n",
    "src_pts = np.array(visible_pts, dtype=np.float32)\n",
    "dst_pts = np.array(thermal_pts, dtype=np.float32)\n",
    "\n",
    "# Compute homography matrix\n",
    "H, status = cv2.findHomography(src_pts, dst_pts, cv2.RANSAC)\n",
    "\n",
    "# Warp visible image\n",
    "aligned_visible = cv2.warpPerspective(visible_img, H, (thermal_img.shape[1], thermal_img.shape[0]))\n"
   ]
  },
  {
   "cell_type": "code",
   "execution_count": 16,
   "id": "b4438b90",
   "metadata": {},
   "outputs": [
    {
     "name": "stdout",
     "output_type": "stream",
     "text": [
      "[[ 3.53613139e-01  1.21078978e-02 -2.16383130e+02]\n",
      " [ 5.28040545e-02  3.55534802e-01 -2.64656555e+02]\n",
      " [ 1.61694816e-05  5.70241601e-05  1.00000000e+00]]\n"
     ]
    }
   ],
   "source": [
    "# Save aligned image\n",
    "cv2.imwrite(\"/Users/marino/Downloads/manual_aligned_visible.jpg\", aligned_visible)\n",
    "\n",
    "# Overlay for sanity check\n",
    "blended = cv2.addWeighted(cv2.cvtColor(aligned_visible, cv2.COLOR_BGR2RGB), 0.5,\n",
    "                          cv2.cvtColor(thermal_img, cv2.COLOR_BGR2RGB), 0.5, 0)\n",
    "\n",
    "cv2.imshow(\"Overlay: Aligned Visible + Thermal\", cv2.cvtColor(blended, cv2.COLOR_RGB2BGR))\n",
    "cv2.waitKey(0)\n",
    "cv2.destroyAllWindows()\n",
    "\n",
    "print(H)"
   ]
  },
  {
   "cell_type": "markdown",
   "id": "0c2bf298",
   "metadata": {},
   "source": [
    "Saving the homography matrix as a txt to reuse if good, just a failsafe."
   ]
  },
  {
   "cell_type": "code",
   "execution_count": 17,
   "id": "c8518d0a",
   "metadata": {},
   "outputs": [
    {
     "name": "stdout",
     "output_type": "stream",
     "text": [
      "Homography matrix saved to /Users/marino/Downloads/homography_matrix.txt\n"
     ]
    }
   ],
   "source": [
    "def save_homography_matrix(H, filename):\n",
    "    \"\"\"\n",
    "    Saves the homography matrix H to a .txt file.\n",
    "\n",
    "    Parameters:\n",
    "        H (np.ndarray): 3x3 Homography matrix.\n",
    "        filename (str): Output text file path.\n",
    "\n",
    "    \"\"\"\n",
    "    np.savetxt(filename, H, fmt='%.8f', delimiter=',')\n",
    "    print(f\"Homography matrix saved to {filename}\")\n",
    "\n",
    "# Save the homography matrix to a text file\n",
    "save_homography_matrix(H, matrix_path)"
   ]
  },
  {
   "cell_type": "markdown",
   "id": "4bc0610a",
   "metadata": {},
   "source": [
    "Given homography matrix: warp images from folder"
   ]
  },
  {
   "cell_type": "code",
   "execution_count": 18,
   "id": "6ca7888c",
   "metadata": {},
   "outputs": [],
   "source": [
    "def warp_images_from_folder(visible_folder, H, target_shape, output_dir, extensions=[\".jpg\", \".png\", \".jpeg\"]):\n",
    "    \"\"\"\n",
    "    Applies a homography matrix to all images in a folder.\n",
    "\n",
    "    Parameters:\n",
    "        visible_folder (str): Path to the folder with visible images.\n",
    "        H (np.ndarray): 3x3 Homography matrix.\n",
    "        target_shape (tuple): Shape (height, width) to warp images to (from the thermal image).\n",
    "        output_dir (str): Directory to save warped images.\n",
    "        extensions (list): List of valid image file extensions.\n",
    "\n",
    "    Returns:\n",
    "        None\n",
    "    \"\"\"\n",
    "    os.makedirs(output_dir, exist_ok=True)\n",
    "\n",
    "    # Get all image files in the folder\n",
    "    image_paths = []\n",
    "    for ext in extensions:\n",
    "        image_paths.extend(glob(os.path.join(visible_folder, f\"*{ext}\")))\n",
    "\n",
    "    if not image_paths:\n",
    "        print(\"No images found in the folder.\")\n",
    "        return\n",
    "\n",
    "    for image_path in image_paths:\n",
    "        img = cv2.imread(image_path)\n",
    "        if img is None:\n",
    "            print(f\"Warning: Could not read {image_path}\")\n",
    "            continue\n",
    "\n",
    "        warped_img = cv2.warpPerspective(img, H, (target_shape[1], target_shape[0]))\n",
    "        filename = os.path.basename(image_path)\n",
    "        save_path = os.path.join(output_dir, f\"aligned_{filename}\")\n",
    "        cv2.imwrite(save_path, warped_img)\n",
    "        print(f\"Saved aligned image to {save_path}\")\n"
   ]
  },
  {
   "cell_type": "code",
   "execution_count": 21,
   "id": "86dd89e3",
   "metadata": {},
   "outputs": [
    {
     "name": "stdout",
     "output_type": "stream",
     "text": [
      "Saved aligned image to /Users/marino/Downloads/aligned/aligned_HM20240814214018_VIS.jpeg\n",
      "Saved aligned image to /Users/marino/Downloads/aligned/aligned_HM20240814213403_VIS.jpeg\n",
      "Saved aligned image to /Users/marino/Downloads/aligned/aligned_HM20240814213710_VIS.jpeg\n",
      "Saved aligned image to /Users/marino/Downloads/aligned/aligned_HM20240814213507_VIS.jpeg\n",
      "Saved aligned image to /Users/marino/Downloads/aligned/aligned_HM20240814213609_VIS.jpeg\n",
      "Saved aligned image to /Users/marino/Downloads/aligned/aligned_HM20240814213916_VIS.jpeg\n",
      "Saved aligned image to /Users/marino/Downloads/aligned/aligned_HM20240814213814_VIS.jpeg\n",
      "Saved aligned image to /Users/marino/Downloads/aligned/aligned_HM20240814214120_VIS.jpeg\n"
     ]
    }
   ],
   "source": [
    "\n",
    "target_shape = thermal_img.shape[:2]  # (height, width)\n",
    "\n",
    "warp_images_from_folder(visible_folder, H, target_shape, output_folder)"
   ]
  }
 ],
 "metadata": {
  "kernelspec": {
   "display_name": "collegeEnv",
   "language": "python",
   "name": "python3"
  },
  "language_info": {
   "codemirror_mode": {
    "name": "ipython",
    "version": 3
   },
   "file_extension": ".py",
   "mimetype": "text/x-python",
   "name": "python",
   "nbconvert_exporter": "python",
   "pygments_lexer": "ipython3",
   "version": "3.10.13"
  }
 },
 "nbformat": 4,
 "nbformat_minor": 5
}
